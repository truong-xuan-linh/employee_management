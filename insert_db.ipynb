{
 "cells": [
  {
   "cell_type": "code",
   "execution_count": 1,
   "metadata": {},
   "outputs": [
    {
     "data": {
      "text/html": [
       "<div>\n",
       "<style scoped>\n",
       "    .dataframe tbody tr th:only-of-type {\n",
       "        vertical-align: middle;\n",
       "    }\n",
       "\n",
       "    .dataframe tbody tr th {\n",
       "        vertical-align: top;\n",
       "    }\n",
       "\n",
       "    .dataframe thead th {\n",
       "        text-align: right;\n",
       "    }\n",
       "</style>\n",
       "<table border=\"1\" class=\"dataframe\">\n",
       "  <thead>\n",
       "    <tr style=\"text-align: right;\">\n",
       "      <th></th>\n",
       "      <th>STT</th>\n",
       "      <th>HoTen</th>\n",
       "      <th>MaNV</th>\n",
       "      <th>BoPhan</th>\n",
       "      <th>PhongBan</th>\n",
       "      <th>Unnamed: 5</th>\n",
       "    </tr>\n",
       "  </thead>\n",
       "  <tbody>\n",
       "    <tr>\n",
       "      <th>0</th>\n",
       "      <td>1</td>\n",
       "      <td>Nguyễn Thị Kim Liên</td>\n",
       "      <td>L0768</td>\n",
       "      <td>KTO</td>\n",
       "      <td>P.KT</td>\n",
       "      <td>NaN</td>\n",
       "    </tr>\n",
       "    <tr>\n",
       "      <th>1</th>\n",
       "      <td>2</td>\n",
       "      <td>Nguyễn Thị Phương Lan</td>\n",
       "      <td>L0356</td>\n",
       "      <td>KTO</td>\n",
       "      <td>P.KT</td>\n",
       "      <td>NaN</td>\n",
       "    </tr>\n",
       "    <tr>\n",
       "      <th>2</th>\n",
       "      <td>3</td>\n",
       "      <td>Lê Thị Phương</td>\n",
       "      <td>P0267</td>\n",
       "      <td>KTO</td>\n",
       "      <td>P.KT</td>\n",
       "      <td>NaN</td>\n",
       "    </tr>\n",
       "    <tr>\n",
       "      <th>3</th>\n",
       "      <td>4</td>\n",
       "      <td>Bùi Thị Kim Tuyến</td>\n",
       "      <td>T2974</td>\n",
       "      <td>KTO</td>\n",
       "      <td>P.KT</td>\n",
       "      <td>NaN</td>\n",
       "    </tr>\n",
       "    <tr>\n",
       "      <th>4</th>\n",
       "      <td>5</td>\n",
       "      <td>Trần Thị Xuân Thủy</td>\n",
       "      <td>T2629</td>\n",
       "      <td>KTO</td>\n",
       "      <td>P.KT</td>\n",
       "      <td>NaN</td>\n",
       "    </tr>\n",
       "    <tr>\n",
       "      <th>...</th>\n",
       "      <td>...</td>\n",
       "      <td>...</td>\n",
       "      <td>...</td>\n",
       "      <td>...</td>\n",
       "      <td>...</td>\n",
       "      <td>...</td>\n",
       "    </tr>\n",
       "    <tr>\n",
       "      <th>191</th>\n",
       "      <td>192</td>\n",
       "      <td>Đỗ Văn Phúc</td>\n",
       "      <td>P0677</td>\n",
       "      <td>KTTB</td>\n",
       "      <td>BTB</td>\n",
       "      <td>NaN</td>\n",
       "    </tr>\n",
       "    <tr>\n",
       "      <th>192</th>\n",
       "      <td>193</td>\n",
       "      <td>Nguyễn Ngọc Hùng</td>\n",
       "      <td>H0879</td>\n",
       "      <td>KTTB</td>\n",
       "      <td>BTB</td>\n",
       "      <td>NaN</td>\n",
       "    </tr>\n",
       "    <tr>\n",
       "      <th>193</th>\n",
       "      <td>194</td>\n",
       "      <td>Huỳnh Văn Toàn</td>\n",
       "      <td>T2548</td>\n",
       "      <td>KTTB</td>\n",
       "      <td>BTB</td>\n",
       "      <td>NaN</td>\n",
       "    </tr>\n",
       "    <tr>\n",
       "      <th>194</th>\n",
       "      <td>195</td>\n",
       "      <td>Nguyễn Đình Hiến</td>\n",
       "      <td>H7001</td>\n",
       "      <td>KHOAN</td>\n",
       "      <td>NGOÀI</td>\n",
       "      <td>P. Tổng hợp quản lý</td>\n",
       "    </tr>\n",
       "    <tr>\n",
       "      <th>195</th>\n",
       "      <td>196</td>\n",
       "      <td>Nguyễn Văn Hòa</td>\n",
       "      <td>H7002</td>\n",
       "      <td>KHOAN</td>\n",
       "      <td>NGOÀI</td>\n",
       "      <td>P. Tổng hợp quản lý</td>\n",
       "    </tr>\n",
       "  </tbody>\n",
       "</table>\n",
       "<p>196 rows × 6 columns</p>\n",
       "</div>"
      ],
      "text/plain": [
       "     STT                  HoTen   MaNV BoPhan PhongBan           Unnamed: 5\n",
       "0      1    Nguyễn Thị Kim Liên  L0768    KTO     P.KT                  NaN\n",
       "1      2  Nguyễn Thị Phương Lan  L0356    KTO     P.KT                  NaN\n",
       "2      3          Lê Thị Phương  P0267    KTO     P.KT                  NaN\n",
       "3      4      Bùi Thị Kim Tuyến  T2974    KTO     P.KT                  NaN\n",
       "4      5     Trần Thị Xuân Thủy  T2629    KTO     P.KT                  NaN\n",
       "..   ...                    ...    ...    ...      ...                  ...\n",
       "191  192            Đỗ Văn Phúc  P0677   KTTB      BTB                  NaN\n",
       "192  193       Nguyễn Ngọc Hùng  H0879   KTTB      BTB                  NaN\n",
       "193  194         Huỳnh Văn Toàn  T2548   KTTB      BTB                  NaN\n",
       "194  195       Nguyễn Đình Hiến  H7001  KHOAN    NGOÀI  P. Tổng hợp quản lý\n",
       "195  196         Nguyễn Văn Hòa  H7002  KHOAN    NGOÀI  P. Tổng hợp quản lý\n",
       "\n",
       "[196 rows x 6 columns]"
      ]
     },
     "execution_count": 1,
     "metadata": {},
     "output_type": "execute_result"
    }
   ],
   "source": [
    "import pandas as pd\n",
    "staff_df = pd.read_excel(\"./static/DS CBCNV phòng, ban 4.10.2023.xlsx\")\n",
    "staff_df = staff_df.rename(columns={\n",
    "    'Họ & tên': 'HoTen',\n",
    "    'Mã NV': 'MaNV',\n",
    "    'Bộ phận': 'BoPhan', \n",
    "    'Phòng/ ban': 'PhongBan'\n",
    "})\n",
    "staff_df"
   ]
  },
  {
   "cell_type": "markdown",
   "metadata": {},
   "source": [
    "# SQLite create"
   ]
  },
  {
   "cell_type": "code",
   "execution_count": 2,
   "metadata": {},
   "outputs": [
    {
     "name": "stderr",
     "output_type": "stream",
     "text": [
      "C:\\Users\\truon\\AppData\\Local\\Temp\\ipykernel_19080\\873168939.py:7: MovedIn20Warning: The ``declarative_base()`` function is now available as sqlalchemy.orm.declarative_base(). (deprecated since: 2.0) (Background on SQLAlchemy 2.0 at: https://sqlalche.me/e/b8d9)\n",
      "  Base = declarative_base()\n"
     ]
    }
   ],
   "source": [
    "from sqlalchemy import create_engine, Column, Integer, String\n",
    "from sqlalchemy.ext.declarative import declarative_base\n",
    "from sqlalchemy.orm import sessionmaker\n",
    "\n",
    "# Tạo engine và session\n",
    "engine = create_engine('sqlite:///instance/pccc.db')\n",
    "Base = declarative_base()\n",
    "Session = sessionmaker(bind=engine)\n",
    "session = Session()"
   ]
  },
  {
   "cell_type": "markdown",
   "metadata": {},
   "source": [
    "## create table"
   ]
  },
  {
   "cell_type": "code",
   "execution_count": 3,
   "metadata": {},
   "outputs": [],
   "source": [
    "# Định nghĩa lớp NhanVien\n",
    "class NhanVien(Base):\n",
    "    Id = Column(Integer, primary_key=True, autoincrement=True)\n",
    "    MaNV = Column(String(10))\n",
    "    HoTen = Column(String(255))\n",
    "    BoPhan = Column(String(255))\n",
    "    PhongBan = Column(String(255))\n",
    "    __tablename__  = \"NhanVien\"\n",
    "    extend_existing = True\n",
    "\n",
    "class Account(Base):\n",
    "    Id = Column(Integer, primary_key=True, autoincrement=True)\n",
    "    MaNV = Column(String(10))\n",
    "    HoTen = Column(String(255))\n",
    "    BoPhan = Column(String(255))\n",
    "    PhongBan = Column(String(255))\n",
    "    PassWord = Column(String(255))\n",
    "    Role = Column(String(10))\n",
    "    __tablename__  = \"Account\"\n",
    "    extend_existing = True\n",
    "    \n",
    "# Tạo bảng (nếu chưa tồn tại)\n",
    "Base.metadata.create_all(engine)"
   ]
  },
  {
   "cell_type": "markdown",
   "metadata": {},
   "source": [
    "## Insert Staff"
   ]
  },
  {
   "cell_type": "code",
   "execution_count": 4,
   "metadata": {},
   "outputs": [],
   "source": [
    "for idx in range(staff_df.__len__()):\n",
    "    staff_info = staff_df.iloc[idx]\n",
    "    manv = staff_info.MaNV\n",
    "    hoten = staff_info.HoTen\n",
    "    bophan = staff_info.BoPhan\n",
    "    phongban = staff_info.PhongBan\n",
    "    # Tạo một đối tượng NhanVien và thêm vào cơ sở dữ liệu\n",
    "    nhanvien = NhanVien(MaNV=manv, HoTen=hoten, BoPhan=bophan, PhongBan=phongban)\n",
    "    session.add(nhanvien)\n",
    "    session.commit()"
   ]
  },
  {
   "cell_type": "markdown",
   "metadata": {},
   "source": [
    "## Insert Account"
   ]
  },
  {
   "cell_type": "code",
   "execution_count": 5,
   "metadata": {},
   "outputs": [],
   "source": [
    "accounts = [\n",
    "    {\"MaNV\": \"L0768\", \"HoTen\": \"Nguyễn Thị Kim Liên\", \"BoPhan\": \"KTO\", \"PhongBan\": \"P.KT\", \"PassWord\": \"123\", \"Role\": \"admin\"},\n",
    "    {\"MaNV\": \"L0356\", \"HoTen\": \"Nguyễn Thị Phương Lan\", \"BoPhan\": \"KTO\", \"PhongBan\": \"P.KT\", \"PassWord\": \"123\", \"Role\": \"user\"},\n",
    "    {\"MaNV\": \"X0023\", \"HoTen\": \"Trần Thị Xuân\", \"BoPhan\": \"QTĐS\", \"PhongBan\": \"P.QTĐS\", \"PassWord\": \"123\", \"Role\": \"user\"},\n",
    "]"
   ]
  },
  {
   "cell_type": "code",
   "execution_count": 6,
   "metadata": {},
   "outputs": [],
   "source": [
    "for acc in accounts:\n",
    "    MaNV = acc[\"MaNV\"]\n",
    "    HoTen = acc[\"HoTen\"]\n",
    "    BoPhan = acc[\"BoPhan\"]\n",
    "    PhongBan = acc[\"PhongBan\"]\n",
    "    PassWord = acc[\"PassWord\"]\n",
    "    Role = acc[\"Role\"]\n",
    "    \n",
    "    account = Account(MaNV=MaNV, HoTen=HoTen, BoPhan=BoPhan, PhongBan=PhongBan, PassWord=PassWord, Role=Role)\n",
    "    session.add(account)\n",
    "    session.commit()"
   ]
  }
 ],
 "metadata": {
  "kernelspec": {
   "display_name": "flask",
   "language": "python",
   "name": "python3"
  },
  "language_info": {
   "codemirror_mode": {
    "name": "ipython",
    "version": 3
   },
   "file_extension": ".py",
   "mimetype": "text/x-python",
   "name": "python",
   "nbconvert_exporter": "python",
   "pygments_lexer": "ipython3",
   "version": "3.9.0"
  },
  "orig_nbformat": 4
 },
 "nbformat": 4,
 "nbformat_minor": 2
}
